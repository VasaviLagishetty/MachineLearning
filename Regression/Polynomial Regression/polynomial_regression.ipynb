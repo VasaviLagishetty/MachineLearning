{
  "nbformat": 4,
  "nbformat_minor": 0,
  "metadata": {
    "colab": {
      "name": "Copy of polynomial_regression.ipynb",
      "provenance": [],
      "collapsed_sections": [],
      "include_colab_link": true
    },
    "kernelspec": {
      "name": "python3",
      "display_name": "Python 3"
    }
  },
  "cells": [
    {
      "cell_type": "markdown",
      "metadata": {
        "id": "view-in-github",
        "colab_type": "text"
      },
      "source": [
        "<a href=\"https://colab.research.google.com/github/VasaviLagishetty/MachineLearning/blob/master/Regression/Polynomial%20Regression/polynomial_regression.ipynb\" target=\"_parent\"><img src=\"https://colab.research.google.com/assets/colab-badge.svg\" alt=\"Open In Colab\"/></a>"
      ]
    },
    {
      "cell_type": "markdown",
      "metadata": {
        "id": "vN99YjPTDena",
        "colab_type": "text"
      },
      "source": [
        "# Polynomial Regression \n",
        "### Here, in given dataset with level of position and salaries, some new  joined employee aims that for his position corresponding salary show be more when compare with his previous company. So, we compare in simple linear regression and polynominal regression whether employee aims either truth or bluff.\n",
        "### - Employee says his level is in between 6 and 7 and tells his salary will be around 160k. So, company checks whether truth od bluff with linear and polynomail regressions for more accurate results"
      ]
    },
    {
      "cell_type": "markdown",
      "metadata": {
        "id": "ZIx_naXnDyHd",
        "colab_type": "text"
      },
      "source": [
        "## Importing the libraries"
      ]
    },
    {
      "cell_type": "code",
      "metadata": {
        "id": "duRF_CFMZNaZ",
        "colab_type": "code",
        "colab": {}
      },
      "source": [
        "import numpy as np\n",
        "import matplotlib.pyplot as plt\n",
        "import pandas as pd"
      ],
      "execution_count": 0,
      "outputs": []
    },
    {
      "cell_type": "markdown",
      "metadata": {
        "id": "6c8YExmOD5x5",
        "colab_type": "text"
      },
      "source": [
        "## Importing the dataset"
      ]
    },
    {
      "cell_type": "code",
      "metadata": {
        "id": "buu4E1nuZfVW",
        "colab_type": "code",
        "colab": {}
      },
      "source": [
        "url = \"https://raw.githubusercontent.com/VasaviLagishetty/MachineLearning/master/Regression/Polynomail%20Regression/Position_Salaries.csv\"\n",
        "dataset = pd.read_csv(url)\n",
        "x = dataset.iloc[:,1:-1].values\n",
        "y = dataset.iloc[:,-1].values"
      ],
      "execution_count": 0,
      "outputs": []
    },
    {
      "cell_type": "code",
      "metadata": {
        "id": "gfdz0feqaDN1",
        "colab_type": "code",
        "colab": {
          "base_uri": "https://localhost:8080/",
          "height": 221
        },
        "outputId": "9866f394-d528-4cdb-b698-e6da5535d957"
      },
      "source": [
        "print(x)\n",
        "print(y)"
      ],
      "execution_count": 3,
      "outputs": [
        {
          "output_type": "stream",
          "text": [
            "[[ 1]\n",
            " [ 2]\n",
            " [ 3]\n",
            " [ 4]\n",
            " [ 5]\n",
            " [ 6]\n",
            " [ 7]\n",
            " [ 8]\n",
            " [ 9]\n",
            " [10]]\n",
            "[  45000   50000   60000   80000  110000  150000  200000  300000  500000\n",
            " 1000000]\n"
          ],
          "name": "stdout"
        }
      ]
    },
    {
      "cell_type": "markdown",
      "metadata": {
        "id": "Le8SEL-YEOLb",
        "colab_type": "text"
      },
      "source": [
        "## Training the Linear Regression model on the whole dataset"
      ]
    },
    {
      "cell_type": "code",
      "metadata": {
        "id": "VO0E7QWgaKbH",
        "colab_type": "code",
        "colab": {
          "base_uri": "https://localhost:8080/",
          "height": 34
        },
        "outputId": "8cdd8768-059e-46c4-c55a-00b7e45d10bb"
      },
      "source": [
        "from sklearn.linear_model import LinearRegression\n",
        "lin_reg = LinearRegression()\n",
        "lin_reg.fit(x,y)"
      ],
      "execution_count": 4,
      "outputs": [
        {
          "output_type": "execute_result",
          "data": {
            "text/plain": [
              "LinearRegression(copy_X=True, fit_intercept=True, n_jobs=None, normalize=False)"
            ]
          },
          "metadata": {
            "tags": []
          },
          "execution_count": 4
        }
      ]
    },
    {
      "cell_type": "markdown",
      "metadata": {
        "id": "Rb5nWuSHEfBV",
        "colab_type": "text"
      },
      "source": [
        "## Training the Polynomial Regression model on the whole dataset"
      ]
    },
    {
      "cell_type": "code",
      "metadata": {
        "id": "TbCVaqNXaeq_",
        "colab_type": "code",
        "colab": {
          "base_uri": "https://localhost:8080/",
          "height": 204
        },
        "outputId": "95e541ca-942f-48a3-bf9f-68ad56f6ee4e"
      },
      "source": [
        "from sklearn.preprocessing import PolynomialFeatures\n",
        "polynomial_degree = PolynomialFeatures(degree = 4)\n",
        "x_poly = polynomial_degree.fit_transform(x)\n",
        "print(x_poly)\n",
        "lin_reg2 = LinearRegression()\n",
        "lin_reg2.fit(x_poly,y)"
      ],
      "execution_count": 6,
      "outputs": [
        {
          "output_type": "stream",
          "text": [
            "[[1.000e+00 1.000e+00 1.000e+00 1.000e+00 1.000e+00]\n",
            " [1.000e+00 2.000e+00 4.000e+00 8.000e+00 1.600e+01]\n",
            " [1.000e+00 3.000e+00 9.000e+00 2.700e+01 8.100e+01]\n",
            " [1.000e+00 4.000e+00 1.600e+01 6.400e+01 2.560e+02]\n",
            " [1.000e+00 5.000e+00 2.500e+01 1.250e+02 6.250e+02]\n",
            " [1.000e+00 6.000e+00 3.600e+01 2.160e+02 1.296e+03]\n",
            " [1.000e+00 7.000e+00 4.900e+01 3.430e+02 2.401e+03]\n",
            " [1.000e+00 8.000e+00 6.400e+01 5.120e+02 4.096e+03]\n",
            " [1.000e+00 9.000e+00 8.100e+01 7.290e+02 6.561e+03]\n",
            " [1.000e+00 1.000e+01 1.000e+02 1.000e+03 1.000e+04]]\n"
          ],
          "name": "stdout"
        },
        {
          "output_type": "execute_result",
          "data": {
            "text/plain": [
              "LinearRegression(copy_X=True, fit_intercept=True, n_jobs=None, normalize=False)"
            ]
          },
          "metadata": {
            "tags": []
          },
          "execution_count": 6
        }
      ]
    },
    {
      "cell_type": "markdown",
      "metadata": {
        "id": "0O8R0tzbEpvy",
        "colab_type": "text"
      },
      "source": [
        "## Visualising the Linear Regression results"
      ]
    },
    {
      "cell_type": "code",
      "metadata": {
        "id": "M6cI-55nbhRj",
        "colab_type": "code",
        "colab": {
          "base_uri": "https://localhost:8080/",
          "height": 295
        },
        "outputId": "c58e9e7c-c2c7-4b1e-d492-f9f4f62ad391"
      },
      "source": [
        "plt.scatter(x,y,s = 20,c = \"blue\")\n",
        "plt.plot(x,lin_reg.predict(x),color = \"red\")\n",
        "plt.title(\"Simple Linear Regression (Truth or Bluff)\")\n",
        "plt.xlabel(\"Level\")\n",
        "plt.ylabel(\"Salary\")\n",
        "plt.show()"
      ],
      "execution_count": 13,
      "outputs": [
        {
          "output_type": "display_data",
          "data": {
            "image/png": "[encoded data removed]",
            "text/plain": [
              "<Figure size 432x288 with 1 Axes>"
            ]
          },
          "metadata": {
            "tags": [],
            "needs_background": "light"
          }
        }
      ]
    },
    {
      "cell_type": "markdown",
      "metadata": {
        "id": "stOnSo74E52m",
        "colab_type": "text"
      },
      "source": [
        "## Visualising the Polynomial Regression results"
      ]
    },
    {
      "cell_type": "code",
      "metadata": {
        "id": "4xwoCNqTj0bR",
        "colab_type": "code",
        "colab": {
          "base_uri": "https://localhost:8080/",
          "height": 295
        },
        "outputId": "20fea5ea-f85b-4262-80b6-02196037b644"
      },
      "source": [
        "plt.scatter(x,y,s = 10,c = \"blue\")\n",
        "plt.plot(x,lin_reg2.predict(polynomial_degree.fit_transform(x)),color = \"red\")   # change the degree in PolynomialFeatures and check the graph plot\n",
        "plt.title(\"Polynomial Regression (Truth or Bluff)\")\n",
        "plt.xlabel(\"Level\")\n",
        "plt.ylabel(\"Salary\")\n",
        "plt.show()"
      ],
      "execution_count": 25,
      "outputs": [
        {
          "output_type": "display_data",
          "data": {
            "image/png": "[encoded data removed]",
            "text/plain": [
              "<Figure size 432x288 with 1 Axes>"
            ]
          },
          "metadata": {
            "tags": [],
            "needs_background": "light"
          }
        }
      ]
    },
    {
      "cell_type": "markdown",
      "metadata": {
        "id": "U_qsAMKnE-PJ",
        "colab_type": "text"
      },
      "source": [
        "## Visualising the Polynomial Regression results (for higher resolution and smoother curve)"
      ]
    },
    {
      "cell_type": "code",
      "metadata": {
        "id": "aFpvHAzwnYGW",
        "colab_type": "code",
        "colab": {
          "base_uri": "https://localhost:8080/",
          "height": 295
        },
        "outputId": "e2da6e8c-2747-440d-bf3c-3ab5528498bc"
      },
      "source": [
        "x_grid = np.arange(min(x),max(x),0.1)    # increasing the resolution of x-cordinates for smooth graph with continuous curves\n",
        "x_grid = x_grid.reshape((len(x_grid),1))\n",
        "plt.scatter(x,y,s = 10,c = \"blue\")\n",
        "plt.plot(x_grid,lin_reg2.predict(polynomial_degree.fit_transform(x_grid)),color = \"red\")   # change the degree in PolynomialFeatures and check the graph plot\n",
        "plt.title(\"Polynomial Regression (Truth or Bluff)\")\n",
        "plt.xlabel(\"Level\")\n",
        "plt.ylabel(\"Salary\")\n",
        "plt.show()"
      ],
      "execution_count": 26,
      "outputs": [
        {
          "output_type": "display_data",
          "data": {
            "image/png": "[encoded data removed]",
            "text/plain": [
              "<Figure size 432x288 with 1 Axes>"
            ]
          },
          "metadata": {
            "tags": [],
            "needs_background": "light"
          }
        }
      ]
    },
    {
      "cell_type": "markdown",
      "metadata": {
        "id": "diyJFZHhFFeK",
        "colab_type": "text"
      },
      "source": [
        "## Predicting a new result with Linear Regression"
      ]
    },
    {
      "cell_type": "code",
      "metadata": {
        "id": "vgBupDPbn0hs",
        "colab_type": "code",
        "colab": {
          "base_uri": "https://localhost:8080/",
          "height": 34
        },
        "outputId": "0b17710f-abdf-4466-be74-227575cf6438"
      },
      "source": [
        "y_pred_linear = lin_reg.predict([[6.5]])\n",
        "print(y_pred_linear)"
      ],
      "execution_count": 32,
      "outputs": [
        {
          "output_type": "stream",
          "text": [
            "[330378.78787879]\n"
          ],
          "name": "stdout"
        }
      ]
    },
    {
      "cell_type": "markdown",
      "metadata": {
        "id": "DW7I7ZVDFNkk",
        "colab_type": "text"
      },
      "source": [
        "## Predicting a new result with Polynomial Regression"
      ]
    },
    {
      "cell_type": "code",
      "metadata": {
        "id": "S1R_uYlAoA3a",
        "colab_type": "code",
        "colab": {
          "base_uri": "https://localhost:8080/",
          "height": 34
        },
        "outputId": "e3c2c143-1495-4226-a2c1-68f73b8cdf34"
      },
      "source": [
        "y_pred_polynomial = lin_reg2.predict(polynomial_degree.fit_transform([[6.5]]))\n",
        "print(y_pred_polynomial)"
      ],
      "execution_count": 33,
      "outputs": [
        {
          "output_type": "stream",
          "text": [
            "[158862.45265155]\n"
          ],
          "name": "stdout"
        }
      ]
    }
  ]
}