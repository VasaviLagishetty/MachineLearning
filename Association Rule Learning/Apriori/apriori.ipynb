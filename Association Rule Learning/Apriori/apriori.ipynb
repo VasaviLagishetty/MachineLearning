{
  "nbformat": 4,
  "nbformat_minor": 0,
  "metadata": {
    "colab": {
      "name": "Copy of apriori.ipynb",
      "provenance": [],
      "collapsed_sections": [],
      "toc_visible": true,
      "include_colab_link": true
    },
    "kernelspec": {
      "name": "python3",
      "display_name": "Python 3"
    }
  },
  "cells": [
    {
      "cell_type": "markdown",
      "metadata": {
        "id": "view-in-github",
        "colab_type": "text"
      },
      "source": [
        "<a href=\"https://colab.research.google.com/github/VasaviLagishetty/MachineLearning/blob/master/Association%20Rule%20Learning/Apriori/apriori.ipynb\" target=\"_parent\"><img src=\"https://colab.research.google.com/assets/colab-badge.svg\" alt=\"Open In Colab\"/></a>"
      ]
    },
    {
      "cell_type": "markdown",
      "metadata": {
        "id": "1fziHl7Ar94J",
        "colab_type": "text"
      },
      "source": [
        "# Apriori"
      ]
    },
    {
      "cell_type": "code",
      "metadata": {
        "id": "ypBcnXEeFI-A",
        "colab_type": "code",
        "colab": {
          "resources": {
            "http://localhost:8080/nbextensions/google.colab/files.js": {
              "data": "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",
              "ok": true,
              "headers": [
                [
                  "content-type",
                  "application/javascript"
                ]
              ],
              "status": 200,
              "status_text": ""
            }
          },
          "base_uri": "https://localhost:8080/",
          "height": 74
        },
        "outputId": "ffdc9881-886c-4675-d91d-80c620767e28"
      },
      "source": [
        "from google.colab import files\n",
        "uploaded = files.upload()"
      ],
      "execution_count": 10,
      "outputs": [
        {
          "output_type": "display_data",
          "data": {
            "text/html": [
              "\n",
              "     <input type=\"file\" id=\"files-fe45f339-17cc-42ac-a39c-80a3e068e547\" name=\"files[]\" multiple disabled />\n",
              "     <output id=\"result-fe45f339-17cc-42ac-a39c-80a3e068e547\">\n",
              "      Upload widget is only available when the cell has been executed in the\n",
              "      current browser session. Please rerun this cell to enable.\n",
              "      </output>\n",
              "      <script src=\"/nbextensions/google.colab/files.js\"></script> "
            ],
            "text/plain": [
              "<IPython.core.display.HTML object>"
            ]
          },
          "metadata": {
            "tags": []
          }
        },
        {
          "output_type": "stream",
          "text": [
            "Saving apyori.py to apyori.py\n"
          ],
          "name": "stdout"
        }
      ]
    },
    {
      "cell_type": "markdown",
      "metadata": {
        "id": "eiNwni1xsEgT",
        "colab_type": "text"
      },
      "source": [
        "## Importing the libraries"
      ]
    },
    {
      "cell_type": "code",
      "metadata": {
        "id": "HSh5OqqEDDpc",
        "colab_type": "code",
        "colab": {}
      },
      "source": [
        "import pandas as pd\n",
        "import matplotlib.pyplot as plt\n",
        "import numpy as np"
      ],
      "execution_count": 0,
      "outputs": []
    },
    {
      "cell_type": "markdown",
      "metadata": {
        "id": "vLt-7XUKsXBd",
        "colab_type": "text"
      },
      "source": [
        "## Data Preprocessing"
      ]
    },
    {
      "cell_type": "code",
      "metadata": {
        "id": "rswva7HADMT4",
        "colab_type": "code",
        "colab": {
          "base_uri": "https://localhost:8080/",
          "height": 238
        },
        "outputId": "466002f8-1ccb-4d1a-f205-56bbff24e1d4"
      },
      "source": [
        "url = \"https://raw.githubusercontent.com/VasaviLagishetty/MachineLearning/master/Association%20Rule%20Learning/Apriori/Market_Basket_Optimisation.csv\"\n",
        "dataset = pd.read_csv(url,header=None)\n",
        "dataset.head(5)"
      ],
      "execution_count": 2,
      "outputs": [
        {
          "output_type": "execute_result",
          "data": {
            "text/html": [
              "<div>\n",
              "<style scoped>\n",
              "    .dataframe tbody tr th:only-of-type {\n",
              "        vertical-align: middle;\n",
              "    }\n",
              "\n",
              "    .dataframe tbody tr th {\n",
              "        vertical-align: top;\n",
              "    }\n",
              "\n",
              "    .dataframe thead th {\n",
              "        text-align: right;\n",
              "    }\n",
              "</style>\n",
              "<table border=\"1\" class=\"dataframe\">\n",
              "  <thead>\n",
              "    <tr style=\"text-align: right;\">\n",
              "      <th></th>\n",
              "      <th>0</th>\n",
              "      <th>1</th>\n",
              "      <th>2</th>\n",
              "      <th>3</th>\n",
              "      <th>4</th>\n",
              "      <th>5</th>\n",
              "      <th>6</th>\n",
              "      <th>7</th>\n",
              "      <th>8</th>\n",
              "      <th>9</th>\n",
              "      <th>10</th>\n",
              "      <th>11</th>\n",
              "      <th>12</th>\n",
              "      <th>13</th>\n",
              "      <th>14</th>\n",
              "      <th>15</th>\n",
              "      <th>16</th>\n",
              "      <th>17</th>\n",
              "      <th>18</th>\n",
              "      <th>19</th>\n",
              "    </tr>\n",
              "  </thead>\n",
              "  <tbody>\n",
              "    <tr>\n",
              "      <th>0</th>\n",
              "      <td>shrimp</td>\n",
              "      <td>almonds</td>\n",
              "      <td>avocado</td>\n",
              "      <td>vegetables mix</td>\n",
              "      <td>green grapes</td>\n",
              "      <td>whole weat flour</td>\n",
              "      <td>yams</td>\n",
              "      <td>cottage cheese</td>\n",
              "      <td>energy drink</td>\n",
              "      <td>tomato juice</td>\n",
              "      <td>low fat yogurt</td>\n",
              "      <td>green tea</td>\n",
              "      <td>honey</td>\n",
              "      <td>salad</td>\n",
              "      <td>mineral water</td>\n",
              "      <td>salmon</td>\n",
              "      <td>antioxydant juice</td>\n",
              "      <td>frozen smoothie</td>\n",
              "      <td>spinach</td>\n",
              "      <td>olive oil</td>\n",
              "    </tr>\n",
              "    <tr>\n",
              "      <th>1</th>\n",
              "      <td>burgers</td>\n",
              "      <td>meatballs</td>\n",
              "      <td>eggs</td>\n",
              "      <td>NaN</td>\n",
              "      <td>NaN</td>\n",
              "      <td>NaN</td>\n",
              "      <td>NaN</td>\n",
              "      <td>NaN</td>\n",
              "      <td>NaN</td>\n",
              "      <td>NaN</td>\n",
              "      <td>NaN</td>\n",
              "      <td>NaN</td>\n",
              "      <td>NaN</td>\n",
              "      <td>NaN</td>\n",
              "      <td>NaN</td>\n",
              "      <td>NaN</td>\n",
              "      <td>NaN</td>\n",
              "      <td>NaN</td>\n",
              "      <td>NaN</td>\n",
              "      <td>NaN</td>\n",
              "    </tr>\n",
              "    <tr>\n",
              "      <th>2</th>\n",
              "      <td>chutney</td>\n",
              "      <td>NaN</td>\n",
              "      <td>NaN</td>\n",
              "      <td>NaN</td>\n",
              "      <td>NaN</td>\n",
              "      <td>NaN</td>\n",
              "      <td>NaN</td>\n",
              "      <td>NaN</td>\n",
              "      <td>NaN</td>\n",
              "      <td>NaN</td>\n",
              "      <td>NaN</td>\n",
              "      <td>NaN</td>\n",
              "      <td>NaN</td>\n",
              "      <td>NaN</td>\n",
              "      <td>NaN</td>\n",
              "      <td>NaN</td>\n",
              "      <td>NaN</td>\n",
              "      <td>NaN</td>\n",
              "      <td>NaN</td>\n",
              "      <td>NaN</td>\n",
              "    </tr>\n",
              "    <tr>\n",
              "      <th>3</th>\n",
              "      <td>turkey</td>\n",
              "      <td>avocado</td>\n",
              "      <td>NaN</td>\n",
              "      <td>NaN</td>\n",
              "      <td>NaN</td>\n",
              "      <td>NaN</td>\n",
              "      <td>NaN</td>\n",
              "      <td>NaN</td>\n",
              "      <td>NaN</td>\n",
              "      <td>NaN</td>\n",
              "      <td>NaN</td>\n",
              "      <td>NaN</td>\n",
              "      <td>NaN</td>\n",
              "      <td>NaN</td>\n",
              "      <td>NaN</td>\n",
              "      <td>NaN</td>\n",
              "      <td>NaN</td>\n",
              "      <td>NaN</td>\n",
              "      <td>NaN</td>\n",
              "      <td>NaN</td>\n",
              "    </tr>\n",
              "    <tr>\n",
              "      <th>4</th>\n",
              "      <td>mineral water</td>\n",
              "      <td>milk</td>\n",
              "      <td>energy bar</td>\n",
              "      <td>whole wheat rice</td>\n",
              "      <td>green tea</td>\n",
              "      <td>NaN</td>\n",
              "      <td>NaN</td>\n",
              "      <td>NaN</td>\n",
              "      <td>NaN</td>\n",
              "      <td>NaN</td>\n",
              "      <td>NaN</td>\n",
              "      <td>NaN</td>\n",
              "      <td>NaN</td>\n",
              "      <td>NaN</td>\n",
              "      <td>NaN</td>\n",
              "      <td>NaN</td>\n",
              "      <td>NaN</td>\n",
              "      <td>NaN</td>\n",
              "      <td>NaN</td>\n",
              "      <td>NaN</td>\n",
              "    </tr>\n",
              "  </tbody>\n",
              "</table>\n",
              "</div>"
            ],
            "text/plain": [
              "              0          1           2   ...               17       18         19\n",
              "0         shrimp    almonds     avocado  ...  frozen smoothie  spinach  olive oil\n",
              "1        burgers  meatballs        eggs  ...              NaN      NaN        NaN\n",
              "2        chutney        NaN         NaN  ...              NaN      NaN        NaN\n",
              "3         turkey    avocado         NaN  ...              NaN      NaN        NaN\n",
              "4  mineral water       milk  energy bar  ...              NaN      NaN        NaN\n",
              "\n",
              "[5 rows x 20 columns]"
            ]
          },
          "metadata": {
            "tags": []
          },
          "execution_count": 2
        }
      ]
    },
    {
      "cell_type": "code",
      "metadata": {
        "id": "eh1F4oF1Ddv0",
        "colab_type": "code",
        "colab": {
          "base_uri": "https://localhost:8080/",
          "height": 34
        },
        "outputId": "84634953-809a-488e-962e-a170e5ecc516"
      },
      "source": [
        "dataset.shape"
      ],
      "execution_count": 4,
      "outputs": [
        {
          "output_type": "execute_result",
          "data": {
            "text/plain": [
              "(7501, 20)"
            ]
          },
          "metadata": {
            "tags": []
          },
          "execution_count": 4
        }
      ]
    },
    {
      "cell_type": "code",
      "metadata": {
        "id": "TDHFjjwPDys_",
        "colab_type": "code",
        "colab": {
          "base_uri": "https://localhost:8080/",
          "height": 122
        },
        "outputId": "41188937-5aa9-45b6-c479-76d0d78558a6"
      },
      "source": [
        "transactions = []\n",
        "for i in range(7501):\n",
        "  transactions.append([str(dataset.values[i,j]) for j in range(20)])    # list of lists\n",
        "\n",
        "for items in transactions[:5]:\n",
        "  print(items)"
      ],
      "execution_count": 13,
      "outputs": [
        {
          "output_type": "stream",
          "text": [
            "['shrimp', 'almonds', 'avocado', 'vegetables mix', 'green grapes', 'whole weat flour', 'yams', 'cottage cheese', 'energy drink', 'tomato juice', 'low fat yogurt', 'green tea', 'honey', 'salad', 'mineral water', 'salmon', 'antioxydant juice', 'frozen smoothie', 'spinach', 'olive oil']\n",
            "['burgers', 'meatballs', 'eggs', 'nan', 'nan', 'nan', 'nan', 'nan', 'nan', 'nan', 'nan', 'nan', 'nan', 'nan', 'nan', 'nan', 'nan', 'nan', 'nan', 'nan']\n",
            "['chutney', 'nan', 'nan', 'nan', 'nan', 'nan', 'nan', 'nan', 'nan', 'nan', 'nan', 'nan', 'nan', 'nan', 'nan', 'nan', 'nan', 'nan', 'nan', 'nan']\n",
            "['turkey', 'avocado', 'nan', 'nan', 'nan', 'nan', 'nan', 'nan', 'nan', 'nan', 'nan', 'nan', 'nan', 'nan', 'nan', 'nan', 'nan', 'nan', 'nan', 'nan']\n",
            "['mineral water', 'milk', 'energy bar', 'whole wheat rice', 'green tea', 'nan', 'nan', 'nan', 'nan', 'nan', 'nan', 'nan', 'nan', 'nan', 'nan', 'nan', 'nan', 'nan', 'nan', 'nan']\n"
          ],
          "name": "stdout"
        }
      ]
    },
    {
      "cell_type": "markdown",
      "metadata": {
        "id": "1wYZdBd5sea_",
        "colab_type": "text"
      },
      "source": [
        "## Training the Apriori model on the dataset"
      ]
    },
    {
      "cell_type": "code",
      "metadata": {
        "id": "UR1lUOvmEgnB",
        "colab_type": "code",
        "colab": {}
      },
      "source": [
        "from apyori import apriori\n",
        "rules = apriori(transactions,min_support = 0.003, min_confidence = 0.2,min_lift = 3, min_length = 2)  # by default rules are sorted in descending"
      ],
      "execution_count": 0,
      "outputs": []
    },
    {
      "cell_type": "markdown",
      "metadata": {
        "id": "b176YNwWspiO",
        "colab_type": "text"
      },
      "source": [
        "## Visualising the results"
      ]
    },
    {
      "cell_type": "code",
      "metadata": {
        "id": "Dk2TJkXSFmKO",
        "colab_type": "code",
        "colab": {
          "base_uri": "https://localhost:8080/",
          "height": 1000
        },
        "outputId": "b3317067-d122-424c-df46-7d5e151cba81"
      },
      "source": [
        "results = list(rules)\n",
        "results"
      ],
      "execution_count": 15,
      "outputs": [
        {
          "output_type": "execute_result",
          "data": {
            "text/plain": [
              "[RelationRecord(items=frozenset({'chicken', 'light cream'}), support=0.004532728969470737, ordered_statistics=[OrderedStatistic(items_base=frozenset({'light cream'}), items_add=frozenset({'chicken'}), confidence=0.29059829059829057, lift=4.84395061728395)]),\n",
              " RelationRecord(items=frozenset({'mushroom cream sauce', 'escalope'}), support=0.005732568990801226, ordered_statistics=[OrderedStatistic(items_base=frozenset({'mushroom cream sauce'}), items_add=frozenset({'escalope'}), confidence=0.3006993006993007, lift=3.790832696715049)]),\n",
              " RelationRecord(items=frozenset({'escalope', 'pasta'}), support=0.005865884548726837, ordered_statistics=[OrderedStatistic(items_base=frozenset({'pasta'}), items_add=frozenset({'escalope'}), confidence=0.3728813559322034, lift=4.700811850163794)]),\n",
              " RelationRecord(items=frozenset({'honey', 'fromage blanc'}), support=0.003332888948140248, ordered_statistics=[OrderedStatistic(items_base=frozenset({'fromage blanc'}), items_add=frozenset({'honey'}), confidence=0.2450980392156863, lift=5.164270764485569)]),\n",
              " RelationRecord(items=frozenset({'herb & pepper', 'ground beef'}), support=0.015997866951073192, ordered_statistics=[OrderedStatistic(items_base=frozenset({'herb & pepper'}), items_add=frozenset({'ground beef'}), confidence=0.3234501347708895, lift=3.2919938411349285)]),\n",
              " RelationRecord(items=frozenset({'tomato sauce', 'ground beef'}), support=0.005332622317024397, ordered_statistics=[OrderedStatistic(items_base=frozenset({'tomato sauce'}), items_add=frozenset({'ground beef'}), confidence=0.3773584905660377, lift=3.840659481324083)]),\n",
              " RelationRecord(items=frozenset({'olive oil', 'light cream'}), support=0.003199573390214638, ordered_statistics=[OrderedStatistic(items_base=frozenset({'light cream'}), items_add=frozenset({'olive oil'}), confidence=0.20512820512820515, lift=3.1147098515519573)]),\n",
              " RelationRecord(items=frozenset({'olive oil', 'whole wheat pasta'}), support=0.007998933475536596, ordered_statistics=[OrderedStatistic(items_base=frozenset({'whole wheat pasta'}), items_add=frozenset({'olive oil'}), confidence=0.2714932126696833, lift=4.122410097642296)]),\n",
              " RelationRecord(items=frozenset({'shrimp', 'pasta'}), support=0.005065991201173177, ordered_statistics=[OrderedStatistic(items_base=frozenset({'pasta'}), items_add=frozenset({'shrimp'}), confidence=0.3220338983050847, lift=4.506672147735896)]),\n",
              " RelationRecord(items=frozenset({'avocado', 'spaghetti', 'milk'}), support=0.003332888948140248, ordered_statistics=[OrderedStatistic(items_base=frozenset({'avocado', 'spaghetti'}), items_add=frozenset({'milk'}), confidence=0.41666666666666663, lift=3.215449245541838)]),\n",
              " RelationRecord(items=frozenset({'cake', 'milk', 'burgers'}), support=0.0037328356219170776, ordered_statistics=[OrderedStatistic(items_base=frozenset({'cake', 'milk'}), items_add=frozenset({'burgers'}), confidence=0.27999999999999997, lift=3.211437308868501)]),\n",
              " RelationRecord(items=frozenset({'chocolate', 'turkey', 'burgers'}), support=0.0030662578322890282, ordered_statistics=[OrderedStatistic(items_base=frozenset({'chocolate', 'turkey'}), items_add=frozenset({'burgers'}), confidence=0.27058823529411763, lift=3.1034898363014927)]),\n",
              " RelationRecord(items=frozenset({'milk', 'turkey', 'burgers'}), support=0.003199573390214638, ordered_statistics=[OrderedStatistic(items_base=frozenset({'milk', 'turkey'}), items_add=frozenset({'burgers'}), confidence=0.2823529411764706, lift=3.2384241770102533)]),\n",
              " RelationRecord(items=frozenset({'tomatoes', 'cake', 'frozen vegetables'}), support=0.0030662578322890282, ordered_statistics=[OrderedStatistic(items_base=frozenset({'cake', 'frozen vegetables'}), items_add=frozenset({'tomatoes'}), confidence=0.2987012987012987, lift=4.367560314928736), OrderedStatistic(items_base=frozenset({'tomatoes', 'cake'}), items_add=frozenset({'frozen vegetables'}), confidence=0.36507936507936506, lift=3.8300144300144296)]),\n",
              " RelationRecord(items=frozenset({'spaghetti', 'cereals', 'ground beef'}), support=0.0030662578322890282, ordered_statistics=[OrderedStatistic(items_base=frozenset({'cereals', 'ground beef'}), items_add=frozenset({'spaghetti'}), confidence=0.6764705882352942, lift=3.8853031258445188), OrderedStatistic(items_base=frozenset({'spaghetti', 'cereals'}), items_add=frozenset({'ground beef'}), confidence=0.45999999999999996, lift=4.681763907734057)]),\n",
              " RelationRecord(items=frozenset({'chicken', 'milk', 'ground beef'}), support=0.0038661511798426876, ordered_statistics=[OrderedStatistic(items_base=frozenset({'chicken', 'ground beef'}), items_add=frozenset({'milk'}), confidence=0.40845070422535207, lift=3.152046020981858)]),\n",
              " RelationRecord(items=frozenset({'chicken', 'nan', 'light cream'}), support=0.004532728969470737, ordered_statistics=[OrderedStatistic(items_base=frozenset({'nan', 'light cream'}), items_add=frozenset({'chicken'}), confidence=0.29059829059829057, lift=4.84395061728395)]),\n",
              " RelationRecord(items=frozenset({'chicken', 'olive oil', 'milk'}), support=0.0035995200639914677, ordered_statistics=[OrderedStatistic(items_base=frozenset({'chicken', 'milk'}), items_add=frozenset({'olive oil'}), confidence=0.24324324324324323, lift=3.693456614509246), OrderedStatistic(items_base=frozenset({'chicken', 'olive oil'}), items_add=frozenset({'milk'}), confidence=0.5, lift=3.858539094650206), OrderedStatistic(items_base=frozenset({'olive oil', 'milk'}), items_add=frozenset({'chicken'}), confidence=0.2109375, lift=3.51609375)]),\n",
              " RelationRecord(items=frozenset({'chicken', 'spaghetti', 'olive oil'}), support=0.0034662045060658577, ordered_statistics=[OrderedStatistic(items_base=frozenset({'chicken', 'spaghetti'}), items_add=frozenset({'olive oil'}), confidence=0.20155038759689922, lift=3.0603835169318647)]),\n",
              " RelationRecord(items=frozenset({'chocolate', 'shrimp', 'frozen vegetables'}), support=0.005332622317024397, ordered_statistics=[OrderedStatistic(items_base=frozenset({'chocolate', 'frozen vegetables'}), items_add=frozenset({'shrimp'}), confidence=0.23255813953488375, lift=3.2545123221103784), OrderedStatistic(items_base=frozenset({'chocolate', 'shrimp'}), items_add=frozenset({'frozen vegetables'}), confidence=0.29629629629629634, lift=3.1084175084175087)]),\n",
              " RelationRecord(items=frozenset({'herb & pepper', 'chocolate', 'ground beef'}), support=0.003999466737768298, ordered_statistics=[OrderedStatistic(items_base=frozenset({'herb & pepper', 'chocolate'}), items_add=frozenset({'ground beef'}), confidence=0.4411764705882354, lift=4.4901827759597746)]),\n",
              " RelationRecord(items=frozenset({'milk', 'soup', 'chocolate'}), support=0.003999466737768298, ordered_statistics=[OrderedStatistic(items_base=frozenset({'soup', 'chocolate'}), items_add=frozenset({'milk'}), confidence=0.3947368421052632, lift=3.0462150747238472)]),\n",
              " RelationRecord(items=frozenset({'spaghetti', 'cooking oil', 'ground beef'}), support=0.004799360085321957, ordered_statistics=[OrderedStatistic(items_base=frozenset({'cooking oil', 'ground beef'}), items_add=frozenset({'spaghetti'}), confidence=0.5714285714285714, lift=3.2819951870487856), OrderedStatistic(items_base=frozenset({'spaghetti', 'cooking oil'}), items_add=frozenset({'ground beef'}), confidence=0.3025210084033613, lift=3.0789824749438446)]),\n",
              " RelationRecord(items=frozenset({'herb & pepper', 'eggs', 'ground beef'}), support=0.0041327822956939075, ordered_statistics=[OrderedStatistic(items_base=frozenset({'eggs', 'ground beef'}), items_add=frozenset({'herb & pepper'}), confidence=0.2066666666666667, lift=4.178454627133872), OrderedStatistic(items_base=frozenset({'herb & pepper', 'eggs'}), items_add=frozenset({'ground beef'}), confidence=0.3297872340425532, lift=3.3564912381997174)]),\n",
              " RelationRecord(items=frozenset({'spaghetti', 'red wine', 'eggs'}), support=0.0037328356219170776, ordered_statistics=[OrderedStatistic(items_base=frozenset({'red wine', 'eggs'}), items_add=frozenset({'spaghetti'}), confidence=0.5283018867924528, lift=3.0342974370828397)]),\n",
              " RelationRecord(items=frozenset({'mushroom cream sauce', 'nan', 'escalope'}), support=0.005732568990801226, ordered_statistics=[OrderedStatistic(items_base=frozenset({'mushroom cream sauce', 'nan'}), items_add=frozenset({'escalope'}), confidence=0.3006993006993007, lift=3.790832696715049)]),\n",
              " RelationRecord(items=frozenset({'nan', 'escalope', 'pasta'}), support=0.005865884548726837, ordered_statistics=[OrderedStatistic(items_base=frozenset({'nan', 'pasta'}), items_add=frozenset({'escalope'}), confidence=0.3728813559322034, lift=4.700811850163794)]),\n",
              " RelationRecord(items=frozenset({'herb & pepper', 'ground beef', 'french fries'}), support=0.003199573390214638, ordered_statistics=[OrderedStatistic(items_base=frozenset({'ground beef', 'french fries'}), items_add=frozenset({'herb & pepper'}), confidence=0.23076923076923078, lift=4.665768194070081), OrderedStatistic(items_base=frozenset({'herb & pepper', 'french fries'}), items_add=frozenset({'ground beef'}), confidence=0.46153846153846156, lift=4.697421981004071)]),\n",
              " RelationRecord(items=frozenset({'nan', 'honey', 'fromage blanc'}), support=0.003332888948140248, ordered_statistics=[OrderedStatistic(items_base=frozenset({'nan', 'fromage blanc'}), items_add=frozenset({'honey'}), confidence=0.2450980392156863, lift=5.164270764485569)]),\n",
              " RelationRecord(items=frozenset({'tomatoes', 'green tea', 'frozen vegetables'}), support=0.003332888948140248, ordered_statistics=[OrderedStatistic(items_base=frozenset({'green tea', 'frozen vegetables'}), items_add=frozenset({'tomatoes'}), confidence=0.2314814814814815, lift=3.38468341635983)]),\n",
              " RelationRecord(items=frozenset({'spaghetti', 'frozen vegetables', 'ground beef'}), support=0.008665511265164644, ordered_statistics=[OrderedStatistic(items_base=frozenset({'spaghetti', 'frozen vegetables'}), items_add=frozenset({'ground beef'}), confidence=0.31100478468899523, lift=3.165328208890303)]),\n",
              " RelationRecord(items=frozenset({'milk', 'olive oil', 'frozen vegetables'}), support=0.004799360085321957, ordered_statistics=[OrderedStatistic(items_base=frozenset({'milk', 'frozen vegetables'}), items_add=frozenset({'olive oil'}), confidence=0.20338983050847456, lift=3.088314005352364), OrderedStatistic(items_base=frozenset({'olive oil', 'frozen vegetables'}), items_add=frozenset({'milk'}), confidence=0.4235294117647058, lift=3.2684095860566447)]),\n",
              " RelationRecord(items=frozenset({'milk', 'soup', 'frozen vegetables'}), support=0.003999466737768298, ordered_statistics=[OrderedStatistic(items_base=frozenset({'soup', 'frozen vegetables'}), items_add=frozenset({'milk'}), confidence=0.5, lift=3.858539094650206)]),\n",
              " RelationRecord(items=frozenset({'tomatoes', 'milk', 'frozen vegetables'}), support=0.0041327822956939075, ordered_statistics=[OrderedStatistic(items_base=frozenset({'tomatoes', 'milk'}), items_add=frozenset({'frozen vegetables'}), confidence=0.29523809523809524, lift=3.0973160173160172)]),\n",
              " RelationRecord(items=frozenset({'frozen vegetables', 'shrimp', 'mineral water'}), support=0.007199040127982935, ordered_statistics=[OrderedStatistic(items_base=frozenset({'shrimp', 'mineral water'}), items_add=frozenset({'frozen vegetables'}), confidence=0.30508474576271183, lift=3.200616332819722)]),\n",
              " RelationRecord(items=frozenset({'spaghetti', 'olive oil', 'frozen vegetables'}), support=0.005732568990801226, ordered_statistics=[OrderedStatistic(items_base=frozenset({'spaghetti', 'frozen vegetables'}), items_add=frozenset({'olive oil'}), confidence=0.20574162679425836, lift=3.1240241752707125)]),\n",
              " RelationRecord(items=frozenset({'spaghetti', 'frozen vegetables', 'shrimp'}), support=0.005999200106652446, ordered_statistics=[OrderedStatistic(items_base=frozenset({'spaghetti', 'frozen vegetables'}), items_add=frozenset({'shrimp'}), confidence=0.21531100478468898, lift=3.0131489680782684)]),\n",
              " RelationRecord(items=frozenset({'tomatoes', 'frozen vegetables', 'shrimp'}), support=0.003999466737768298, ordered_statistics=[OrderedStatistic(items_base=frozenset({'frozen vegetables', 'shrimp'}), items_add=frozenset({'tomatoes'}), confidence=0.24000000000000002, lift=3.5092397660818717), OrderedStatistic(items_base=frozenset({'tomatoes', 'frozen vegetables'}), items_add=frozenset({'shrimp'}), confidence=0.2479338842975207, lift=3.4696866905143704), OrderedStatistic(items_base=frozenset({'tomatoes', 'shrimp'}), items_add=frozenset({'frozen vegetables'}), confidence=0.35714285714285715, lift=3.7467532467532467)]),\n",
              " RelationRecord(items=frozenset({'tomatoes', 'spaghetti', 'frozen vegetables'}), support=0.006665777896280496, ordered_statistics=[OrderedStatistic(items_base=frozenset({'spaghetti', 'frozen vegetables'}), items_add=frozenset({'tomatoes'}), confidence=0.23923444976076558, lift=3.4980460188216425), OrderedStatistic(items_base=frozenset({'tomatoes', 'spaghetti'}), items_add=frozenset({'frozen vegetables'}), confidence=0.3184713375796179, lift=3.341053850607991)]),\n",
              " RelationRecord(items=frozenset({'spaghetti', 'ground beef', 'grated cheese'}), support=0.005332622317024397, ordered_statistics=[OrderedStatistic(items_base=frozenset({'spaghetti', 'grated cheese'}), items_add=frozenset({'ground beef'}), confidence=0.3225806451612903, lift=3.283144395325426)]),\n",
              " RelationRecord(items=frozenset({'tomatoes', 'green tea', 'ground beef'}), support=0.0030662578322890282, ordered_statistics=[OrderedStatistic(items_base=frozenset({'green tea', 'ground beef'}), items_add=frozenset({'tomatoes'}), confidence=0.2072072072072072, lift=3.0297490472929067)]),\n",
              " RelationRecord(items=frozenset({'milk', 'herb & pepper', 'ground beef'}), support=0.0035995200639914677, ordered_statistics=[OrderedStatistic(items_base=frozenset({'milk', 'herb & pepper'}), items_add=frozenset({'ground beef'}), confidence=0.3913043478260869, lift=3.9825968969382335)]),\n",
              " RelationRecord(items=frozenset({'mineral water', 'herb & pepper', 'ground beef'}), support=0.006665777896280496, ordered_statistics=[OrderedStatistic(items_base=frozenset({'herb & pepper', 'mineral water'}), items_add=frozenset({'ground beef'}), confidence=0.39062500000000006, lift=3.975682666214383)]),\n",
              " RelationRecord(items=frozenset({'nan', 'herb & pepper', 'ground beef'}), support=0.015997866951073192, ordered_statistics=[OrderedStatistic(items_base=frozenset({'nan', 'herb & pepper'}), items_add=frozenset({'ground beef'}), confidence=0.3234501347708895, lift=3.2919938411349285)]),\n",
              " RelationRecord(items=frozenset({'spaghetti', 'herb & pepper', 'ground beef'}), support=0.006399146780429276, ordered_statistics=[OrderedStatistic(items_base=frozenset({'spaghetti', 'herb & pepper'}), items_add=frozenset({'ground beef'}), confidence=0.3934426229508197, lift=4.004359721511667)]),\n",
              " RelationRecord(items=frozenset({'olive oil', 'milk', 'ground beef'}), support=0.004932675643247567, ordered_statistics=[OrderedStatistic(items_base=frozenset({'milk', 'ground beef'}), items_add=frozenset({'olive oil'}), confidence=0.22424242424242427, lift=3.40494417862839)]),\n",
              " RelationRecord(items=frozenset({'soup', 'milk', 'ground beef'}), support=0.003999466737768298, ordered_statistics=[OrderedStatistic(items_base=frozenset({'soup', 'ground beef'}), items_add=frozenset({'milk'}), confidence=0.4109589041095891, lift=3.1714019956029094)]),\n",
              " RelationRecord(items=frozenset({'nan', 'tomato sauce', 'ground beef'}), support=0.005332622317024397, ordered_statistics=[OrderedStatistic(items_base=frozenset({'nan', 'tomato sauce'}), items_add=frozenset({'ground beef'}), confidence=0.3773584905660377, lift=3.840659481324083)]),\n",
              " RelationRecord(items=frozenset({'spaghetti', 'pepper', 'ground beef'}), support=0.003332888948140248, ordered_statistics=[OrderedStatistic(items_base=frozenset({'spaghetti', 'pepper'}), items_add=frozenset({'ground beef'}), confidence=0.33783783783783783, lift=3.4384282518610876)]),\n",
              " RelationRecord(items=frozenset({'spaghetti', 'shrimp', 'ground beef'}), support=0.005999200106652446, ordered_statistics=[OrderedStatistic(items_base=frozenset({'shrimp', 'ground beef'}), items_add=frozenset({'spaghetti'}), confidence=0.5232558139534884, lift=3.005315360233627)]),\n",
              " RelationRecord(items=frozenset({'spaghetti', 'tomato sauce', 'ground beef'}), support=0.0030662578322890282, ordered_statistics=[OrderedStatistic(items_base=frozenset({'tomato sauce', 'ground beef'}), items_add=frozenset({'spaghetti'}), confidence=0.5750000000000001, lift=3.3025076569678413), OrderedStatistic(items_base=frozenset({'spaghetti', 'tomato sauce'}), items_add=frozenset({'ground beef'}), confidence=0.4893617021276596, lift=4.980599901844742)]),\n",
              " RelationRecord(items=frozenset({'nan', 'olive oil', 'light cream'}), support=0.003199573390214638, ordered_statistics=[OrderedStatistic(items_base=frozenset({'nan', 'light cream'}), items_add=frozenset({'olive oil'}), confidence=0.20512820512820515, lift=3.1147098515519573)]),\n",
              " RelationRecord(items=frozenset({'olive oil', 'milk', 'shrimp'}), support=0.003199573390214638, ordered_statistics=[OrderedStatistic(items_base=frozenset({'olive oil', 'shrimp'}), items_add=frozenset({'milk'}), confidence=0.3934426229508197, lift=3.0362274843149164)]),\n",
              " RelationRecord(items=frozenset({'olive oil', 'soup', 'milk'}), support=0.0035995200639914677, ordered_statistics=[OrderedStatistic(items_base=frozenset({'olive oil', 'milk'}), items_add=frozenset({'soup'}), confidence=0.2109375, lift=4.174781497361478), OrderedStatistic(items_base=frozenset({'soup', 'milk'}), items_add=frozenset({'olive oil'}), confidence=0.23684210526315788, lift=3.5962603878116344), OrderedStatistic(items_base=frozenset({'olive oil', 'soup'}), items_add=frozenset({'milk'}), confidence=0.4029850746268656, lift=3.1098673300165833)]),\n",
              " RelationRecord(items=frozenset({'spaghetti', 'olive oil', 'milk'}), support=0.007199040127982935, ordered_statistics=[OrderedStatistic(items_base=frozenset({'spaghetti', 'milk'}), items_add=frozenset({'olive oil'}), confidence=0.20300751879699247, lift=3.0825089038385434)]),\n",
              " RelationRecord(items=frozenset({'tomatoes', 'soup', 'milk'}), support=0.0030662578322890282, ordered_statistics=[OrderedStatistic(items_base=frozenset({'tomatoes', 'milk'}), items_add=frozenset({'soup'}), confidence=0.21904761904761905, lift=4.335293378565146), OrderedStatistic(items_base=frozenset({'tomatoes', 'soup'}), items_add=frozenset({'milk'}), confidence=0.44230769230769235, lift=3.4133230452674903)]),\n",
              " RelationRecord(items=frozenset({'spaghetti', 'milk', 'whole wheat pasta'}), support=0.003999466737768298, ordered_statistics=[OrderedStatistic(items_base=frozenset({'spaghetti', 'whole wheat pasta'}), items_add=frozenset({'milk'}), confidence=0.4545454545454546, lift=3.5077628133183696)]),\n",
              " RelationRecord(items=frozenset({'olive oil', 'soup', 'mineral water'}), support=0.005199306759098787, ordered_statistics=[OrderedStatistic(items_base=frozenset({'soup', 'mineral water'}), items_add=frozenset({'olive oil'}), confidence=0.22543352601156072, lift=3.4230301186492245)]),\n",
              " RelationRecord(items=frozenset({'whole wheat pasta', 'olive oil', 'mineral water'}), support=0.0038661511798426876, ordered_statistics=[OrderedStatistic(items_base=frozenset({'whole wheat pasta', 'mineral water'}), items_add=frozenset({'olive oil'}), confidence=0.4027777777777778, lift=6.115862573099416)]),\n",
              " RelationRecord(items=frozenset({'nan', 'olive oil', 'whole wheat pasta'}), support=0.007998933475536596, ordered_statistics=[OrderedStatistic(items_base=frozenset({'nan', 'whole wheat pasta'}), items_add=frozenset({'olive oil'}), confidence=0.2714932126696833, lift=4.122410097642296)]),\n",
              " RelationRecord(items=frozenset({'nan', 'shrimp', 'pasta'}), support=0.005065991201173177, ordered_statistics=[OrderedStatistic(items_base=frozenset({'nan', 'pasta'}), items_add=frozenset({'shrimp'}), confidence=0.3220338983050847, lift=4.506672147735896)]),\n",
              " RelationRecord(items=frozenset({'spaghetti', 'olive oil', 'pancakes'}), support=0.005065991201173177, ordered_statistics=[OrderedStatistic(items_base=frozenset({'spaghetti', 'pancakes'}), items_add=frozenset({'olive oil'}), confidence=0.20105820105820105, lift=3.0529100529100526)]),\n",
              " RelationRecord(items=frozenset({'tomatoes', 'spaghetti', 'olive oil'}), support=0.004399413411545127, ordered_statistics=[OrderedStatistic(items_base=frozenset({'tomatoes', 'olive oil'}), items_add=frozenset({'spaghetti'}), confidence=0.6111111111111112, lift=3.5099115194827295), OrderedStatistic(items_base=frozenset({'tomatoes', 'spaghetti'}), items_add=frozenset({'olive oil'}), confidence=0.21019108280254778, lift=3.19158565202816)]),\n",
              " RelationRecord(items=frozenset({'tomatoes', 'spaghetti', 'whole wheat rice'}), support=0.0030662578322890282, ordered_statistics=[OrderedStatistic(items_base=frozenset({'spaghetti', 'whole wheat rice'}), items_add=frozenset({'tomatoes'}), confidence=0.2169811320754717, lift=3.1726617382029496)]),\n",
              " RelationRecord(items=frozenset({'avocado', 'nan', 'spaghetti', 'milk'}), support=0.003332888948140248, ordered_statistics=[OrderedStatistic(items_base=frozenset({'avocado', 'nan', 'spaghetti'}), items_add=frozenset({'milk'}), confidence=0.41666666666666663, lift=3.215449245541838)]),\n",
              " RelationRecord(items=frozenset({'cake', 'nan', 'milk', 'burgers'}), support=0.0037328356219170776, ordered_statistics=[OrderedStatistic(items_base=frozenset({'cake', 'nan', 'milk'}), items_add=frozenset({'burgers'}), confidence=0.27999999999999997, lift=3.211437308868501)]),\n",
              " RelationRecord(items=frozenset({'nan', 'chocolate', 'turkey', 'burgers'}), support=0.0030662578322890282, ordered_statistics=[OrderedStatistic(items_base=frozenset({'nan', 'chocolate', 'turkey'}), items_add=frozenset({'burgers'}), confidence=0.27058823529411763, lift=3.1034898363014927)]),\n",
              " RelationRecord(items=frozenset({'nan', 'milk', 'turkey', 'burgers'}), support=0.003199573390214638, ordered_statistics=[OrderedStatistic(items_base=frozenset({'nan', 'milk', 'turkey'}), items_add=frozenset({'burgers'}), confidence=0.2823529411764706, lift=3.2384241770102533)]),\n",
              " RelationRecord(items=frozenset({'tomatoes', 'cake', 'nan', 'frozen vegetables'}), support=0.0030662578322890282, ordered_statistics=[OrderedStatistic(items_base=frozenset({'cake', 'nan', 'frozen vegetables'}), items_add=frozenset({'tomatoes'}), confidence=0.2987012987012987, lift=4.367560314928736), OrderedStatistic(items_base=frozenset({'tomatoes', 'cake', 'nan'}), items_add=frozenset({'frozen vegetables'}), confidence=0.36507936507936506, lift=3.8300144300144296)]),\n",
              " RelationRecord(items=frozenset({'nan', 'cereals', 'spaghetti', 'ground beef'}), support=0.0030662578322890282, ordered_statistics=[OrderedStatistic(items_base=frozenset({'nan', 'cereals', 'ground beef'}), items_add=frozenset({'spaghetti'}), confidence=0.6764705882352942, lift=3.8853031258445188), OrderedStatistic(items_base=frozenset({'nan', 'cereals', 'spaghetti'}), items_add=frozenset({'ground beef'}), confidence=0.45999999999999996, lift=4.681763907734057)]),\n",
              " RelationRecord(items=frozenset({'chicken', 'nan', 'milk', 'ground beef'}), support=0.0038661511798426876, ordered_statistics=[OrderedStatistic(items_base=frozenset({'chicken', 'nan', 'ground beef'}), items_add=frozenset({'milk'}), confidence=0.40845070422535207, lift=3.152046020981858)]),\n",
              " RelationRecord(items=frozenset({'chicken', 'nan', 'olive oil', 'milk'}), support=0.0035995200639914677, ordered_statistics=[OrderedStatistic(items_base=frozenset({'chicken', 'nan', 'milk'}), items_add=frozenset({'olive oil'}), confidence=0.24324324324324323, lift=3.693456614509246), OrderedStatistic(items_base=frozenset({'chicken', 'nan', 'olive oil'}), items_add=frozenset({'milk'}), confidence=0.5, lift=3.858539094650206), OrderedStatistic(items_base=frozenset({'nan', 'olive oil', 'milk'}), items_add=frozenset({'chicken'}), confidence=0.2109375, lift=3.51609375)]),\n",
              " RelationRecord(items=frozenset({'chicken', 'spaghetti', 'nan', 'olive oil'}), support=0.0034662045060658577, ordered_statistics=[OrderedStatistic(items_base=frozenset({'chicken', 'spaghetti', 'nan'}), items_add=frozenset({'olive oil'}), confidence=0.20155038759689922, lift=3.0603835169318647)]),\n",
              " RelationRecord(items=frozenset({'mineral water', 'chocolate', 'eggs', 'ground beef'}), support=0.003999466737768298, ordered_statistics=[OrderedStatistic(items_base=frozenset({'chocolate', 'eggs', 'mineral water'}), items_add=frozenset({'ground beef'}), confidence=0.29702970297029707, lift=3.023093354111531)]),\n",
              " RelationRecord(items=frozenset({'mineral water', 'chocolate', 'ground beef', 'frozen vegetables'}), support=0.003332888948140248, ordered_statistics=[OrderedStatistic(items_base=frozenset({'mineral water', 'chocolate', 'frozen vegetables'}), items_add=frozenset({'ground beef'}), confidence=0.34246575342465757, lift=3.4855300087358976), OrderedStatistic(items_base=frozenset({'mineral water', 'chocolate', 'ground beef'}), items_add=frozenset({'frozen vegetables'}), confidence=0.30487804878048785, lift=3.1984478935698455)]),\n",
              " RelationRecord(items=frozenset({'spaghetti', 'chocolate', 'ground beef', 'frozen vegetables'}), support=0.0030662578322890282, ordered_statistics=[OrderedStatistic(items_base=frozenset({'chocolate', 'ground beef', 'frozen vegetables'}), items_add=frozenset({'spaghetti'}), confidence=0.5348837209302326, lift=3.0721001460165964), OrderedStatistic(items_base=frozenset({'spaghetti', 'chocolate', 'frozen vegetables'}), items_add=frozenset({'ground beef'}), confidence=0.3898305084745763, lift=3.967596531978015), OrderedStatistic(items_base=frozenset({'spaghetti', 'chocolate', 'ground beef'}), items_add=frozenset({'frozen vegetables'}), confidence=0.33333333333333337, lift=3.4969696969696975)]),\n",
              " RelationRecord(items=frozenset({'mineral water', 'milk', 'chocolate', 'frozen vegetables'}), support=0.003999466737768298, ordered_statistics=[OrderedStatistic(items_base=frozenset({'mineral water', 'chocolate', 'frozen vegetables'}), items_add=frozenset({'milk'}), confidence=0.4109589041095891, lift=3.1714019956029094)]),\n",
              " RelationRecord(items=frozenset({'spaghetti', 'milk', 'chocolate', 'frozen vegetables'}), support=0.0034662045060658577, ordered_statistics=[OrderedStatistic(items_base=frozenset({'spaghetti', 'chocolate', 'frozen vegetables'}), items_add=frozenset({'milk'}), confidence=0.44067796610169485, lift=3.4007463207086555), OrderedStatistic(items_base=frozenset({'spaghetti', 'milk', 'chocolate'}), items_add=frozenset({'frozen vegetables'}), confidence=0.3170731707317073, lift=3.3263858093126384)]),\n",
              " RelationRecord(items=frozenset({'mineral water', 'chocolate', 'shrimp', 'frozen vegetables'}), support=0.003199573390214638, ordered_statistics=[OrderedStatistic(items_base=frozenset({'mineral water', 'chocolate', 'frozen vegetables'}), items_add=frozenset({'shrimp'}), confidence=0.32876712328767127, lift=4.600899611531385), OrderedStatistic(items_base=frozenset({'chocolate', 'shrimp', 'mineral water'}), items_add=frozenset({'frozen vegetables'}), confidence=0.4210526315789474, lift=4.417224880382776)]),\n",
              " RelationRecord(items=frozenset({'nan', 'chocolate', 'shrimp', 'frozen vegetables'}), support=0.005332622317024397, ordered_statistics=[OrderedStatistic(items_base=frozenset({'nan', 'chocolate', 'frozen vegetables'}), items_add=frozenset({'shrimp'}), confidence=0.23255813953488375, lift=3.2545123221103784), OrderedStatistic(items_base=frozenset({'nan', 'chocolate', 'shrimp'}), items_add=frozenset({'frozen vegetables'}), confidence=0.29629629629629634, lift=3.1084175084175087)]),\n",
              " RelationRecord(items=frozenset({'herb & pepper', 'nan', 'chocolate', 'ground beef'}), support=0.003999466737768298, ordered_statistics=[OrderedStatistic(items_base=frozenset({'herb & pepper', 'nan', 'chocolate'}), items_add=frozenset({'ground beef'}), confidence=0.4411764705882354, lift=4.4901827759597746)]),\n",
              " RelationRecord(items=frozenset({'nan', 'milk', 'soup', 'chocolate'}), support=0.003999466737768298, ordered_statistics=[OrderedStatistic(items_base=frozenset({'nan', 'soup', 'chocolate'}), items_add=frozenset({'milk'}), confidence=0.3947368421052632, lift=3.0462150747238472)]),\n",
              " RelationRecord(items=frozenset({'spaghetti', 'olive oil', 'chocolate', 'mineral water'}), support=0.0038661511798426876, ordered_statistics=[OrderedStatistic(items_base=frozenset({'spaghetti', 'chocolate', 'mineral water'}), items_add=frozenset({'olive oil'}), confidence=0.2436974789915966, lift=3.700353825740822)]),\n",
              " RelationRecord(items=frozenset({'spaghetti', 'chocolate', 'shrimp', 'mineral water'}), support=0.0034662045060658577, ordered_statistics=[OrderedStatistic(items_base=frozenset({'spaghetti', 'chocolate', 'mineral water'}), items_add=frozenset({'shrimp'}), confidence=0.21848739495798317, lift=3.0576006522011783)]),\n",
              " RelationRecord(items=frozenset({'nan', 'cooking oil', 'spaghetti', 'ground beef'}), support=0.004799360085321957, ordered_statistics=[OrderedStatistic(items_base=frozenset({'nan', 'cooking oil', 'ground beef'}), items_add=frozenset({'spaghetti'}), confidence=0.5714285714285714, lift=3.2819951870487856), OrderedStatistic(items_base=frozenset({'nan', 'cooking oil', 'spaghetti'}), items_add=frozenset({'ground beef'}), confidence=0.3025210084033613, lift=3.0789824749438446)]),\n",
              " RelationRecord(items=frozenset({'milk', 'frozen vegetables', 'eggs', 'mineral water'}), support=0.0037328356219170776, ordered_statistics=[OrderedStatistic(items_base=frozenset({'frozen vegetables', 'eggs', 'mineral water'}), items_add=frozenset({'milk'}), confidence=0.411764705882353, lift=3.177620430888405)]),\n",
              " RelationRecord(items=frozenset({'nan', 'herb & pepper', 'eggs', 'ground beef'}), support=0.0041327822956939075, ordered_statistics=[OrderedStatistic(items_base=frozenset({'nan', 'eggs', 'ground beef'}), items_add=frozenset({'herb & pepper'}), confidence=0.2066666666666667, lift=4.178454627133872), OrderedStatistic(items_base=frozenset({'nan', 'herb & pepper', 'eggs'}), items_add=frozenset({'ground beef'}), confidence=0.3297872340425532, lift=3.3564912381997174)]),\n",
              " RelationRecord(items=frozenset({'spaghetti', 'nan', 'red wine', 'eggs'}), support=0.0037328356219170776, ordered_statistics=[OrderedStatistic(items_base=frozenset({'nan', 'red wine', 'eggs'}), items_add=frozenset({'spaghetti'}), confidence=0.5283018867924528, lift=3.0342974370828397)]),\n",
              " RelationRecord(items=frozenset({'nan', 'herb & pepper', 'ground beef', 'french fries'}), support=0.003199573390214638, ordered_statistics=[OrderedStatistic(items_base=frozenset({'nan', 'ground beef', 'french fries'}), items_add=frozenset({'herb & pepper'}), confidence=0.23076923076923078, lift=4.665768194070081), OrderedStatistic(items_base=frozenset({'nan', 'herb & pepper', 'french fries'}), items_add=frozenset({'ground beef'}), confidence=0.46153846153846156, lift=4.697421981004071)]),\n",
              " RelationRecord(items=frozenset({'frozen smoothie', 'spaghetti', 'milk', 'mineral water'}), support=0.003199573390214638, ordered_statistics=[OrderedStatistic(items_base=frozenset({'frozen smoothie', 'spaghetti', 'mineral water'}), items_add=frozenset({'milk'}), confidence=0.4705882352941177, lift=3.631566206729606), OrderedStatistic(items_base=frozenset({'spaghetti', 'milk', 'mineral water'}), items_add=frozenset({'frozen smoothie'}), confidence=0.2033898305084746, lift=3.211846565566459)]),\n",
              " RelationRecord(items=frozenset({'tomatoes', 'nan', 'green tea', 'frozen vegetables'}), support=0.003332888948140248, ordered_statistics=[OrderedStatistic(items_base=frozenset({'nan', 'green tea', 'frozen vegetables'}), items_add=frozenset({'tomatoes'}), confidence=0.2314814814814815, lift=3.38468341635983)]),\n",
              " RelationRecord(items=frozenset({'mineral water', 'milk', 'frozen vegetables', 'ground beef'}), support=0.0037328356219170776, ordered_statistics=[OrderedStatistic(items_base=frozenset({'mineral water', 'frozen vegetables', 'ground beef'}), items_add=frozenset({'milk'}), confidence=0.40579710144927533, lift=3.1315679608755294), OrderedStatistic(items_base=frozenset({'milk', 'frozen vegetables', 'mineral water'}), items_add=frozenset({'ground beef'}), confidence=0.3373493975903614, lift=3.4334570302921317), OrderedStatistic(items_base=frozenset({'mineral water', 'milk', 'ground beef'}), items_add=frozenset({'frozen vegetables'}), confidence=0.3373493975903614, lift=3.539101861993428)]),\n",
              " RelationRecord(items=frozenset({'spaghetti', 'milk', 'frozen vegetables', 'ground beef'}), support=0.0030662578322890282, ordered_statistics=[OrderedStatistic(items_base=frozenset({'milk', 'frozen vegetables', 'ground beef'}), items_add=frozenset({'spaghetti'}), confidence=0.5348837209302326, lift=3.0721001460165964), OrderedStatistic(items_base=frozenset({'spaghetti', 'milk', 'frozen vegetables'}), items_add=frozenset({'ground beef'}), confidence=0.3709677419354839, lift=3.7756160546242397), OrderedStatistic(items_base=frozenset({'spaghetti', 'milk', 'ground beef'}), items_add=frozenset({'frozen vegetables'}), confidence=0.3150684931506849, lift=3.305354919053549)]),\n",
              " RelationRecord(items=frozenset({'mineral water', 'spaghetti', 'frozen vegetables', 'ground beef'}), support=0.004399413411545127, ordered_statistics=[OrderedStatistic(items_base=frozenset({'spaghetti', 'frozen vegetables', 'mineral water'}), items_add=frozenset({'ground beef'}), confidence=0.3666666666666667, lift=3.7318407960199007)]),\n",
              " RelationRecord(items=frozenset({'spaghetti', 'nan', 'frozen vegetables', 'ground beef'}), support=0.008665511265164644, ordered_statistics=[OrderedStatistic(items_base=frozenset({'spaghetti', 'nan', 'frozen vegetables'}), items_add=frozenset({'ground beef'}), confidence=0.31100478468899523, lift=3.165328208890303)]),\n",
              " RelationRecord(items=frozenset({'milk', 'olive oil', 'frozen vegetables', 'mineral water'}), support=0.003332888948140248, ordered_statistics=[OrderedStatistic(items_base=frozenset({'milk', 'frozen vegetables', 'mineral water'}), items_add=frozenset({'olive oil'}), confidence=0.30120481927710846, lift=4.573557387444516), OrderedStatistic(items_base=frozenset({'olive oil', 'frozen vegetables', 'mineral water'}), items_add=frozenset({'milk'}), confidence=0.5102040816326531, lift=3.937284790459394), OrderedStatistic(items_base=frozenset({'olive oil', 'milk', 'mineral water'}), items_add=frozenset({'frozen vegetables'}), confidence=0.39062500000000006, lift=4.098011363636364)]),\n",
              " RelationRecord(items=frozenset({'milk', 'soup', 'frozen vegetables', 'mineral water'}), support=0.0030662578322890282, ordered_statistics=[OrderedStatistic(items_base=frozenset({'milk', 'frozen vegetables', 'mineral water'}), items_add=frozenset({'soup'}), confidence=0.27710843373493976, lift=5.484407286136631), OrderedStatistic(items_base=frozenset({'milk', 'soup', 'frozen vegetables'}), items_add=frozenset({'mineral water'}), confidence=0.7666666666666666, lift=3.21631245339299), OrderedStatistic(items_base=frozenset({'soup', 'frozen vegetables', 'mineral water'}), items_add=frozenset({'milk'}), confidence=0.6052631578947368, lift=4.670863114576565), OrderedStatistic(items_base=frozenset({'soup', 'milk', 'mineral water'}), items_add=frozenset({'frozen vegetables'}), confidence=0.35937500000000006, lift=3.7701704545454553)]),\n",
              " RelationRecord(items=frozenset({'spaghetti', 'milk', 'frozen vegetables', 'mineral water'}), support=0.004532728969470737, ordered_statistics=[OrderedStatistic(items_base=frozenset({'spaghetti', 'milk', 'mineral water'}), items_add=frozenset({'frozen vegetables'}), confidence=0.28813559322033894, lift=3.0228043143297376)]),\n",
              " RelationRecord(items=frozenset({'nan', 'milk', 'olive oil', 'frozen vegetables'}), support=0.004799360085321957, ordered_statistics=[OrderedStatistic(items_base=frozenset({'nan', 'milk', 'frozen vegetables'}), items_add=frozenset({'olive oil'}), confidence=0.20338983050847456, lift=3.088314005352364), OrderedStatistic(items_base=frozenset({'nan', 'olive oil', 'frozen vegetables'}), items_add=frozenset({'milk'}), confidence=0.4235294117647058, lift=3.2684095860566447)]),\n",
              " RelationRecord(items=frozenset({'nan', 'milk', 'soup', 'frozen vegetables'}), support=0.003999466737768298, ordered_statistics=[OrderedStatistic(items_base=frozenset({'nan', 'soup', 'frozen vegetables'}), items_add=frozenset({'milk'}), confidence=0.5, lift=3.858539094650206)]),\n",
              " RelationRecord(items=frozenset({'tomatoes', 'nan', 'milk', 'frozen vegetables'}), support=0.0041327822956939075, ordered_statistics=[OrderedStatistic(items_base=frozenset({'tomatoes', 'nan', 'milk'}), items_add=frozenset({'frozen vegetables'}), confidence=0.29523809523809524, lift=3.0973160173160172)]),\n",
              " RelationRecord(items=frozenset({'nan', 'frozen vegetables', 'shrimp', 'mineral water'}), support=0.007199040127982935, ordered_statistics=[OrderedStatistic(items_base=frozenset({'nan', 'shrimp', 'mineral water'}), items_add=frozenset({'frozen vegetables'}), confidence=0.3068181818181818, lift=3.218801652892562)]),\n",
              " RelationRecord(items=frozenset({'spaghetti', 'frozen vegetables', 'shrimp', 'mineral water'}), support=0.003332888948140248, ordered_statistics=[OrderedStatistic(items_base=frozenset({'spaghetti', 'frozen vegetables', 'mineral water'}), items_add=frozenset({'shrimp'}), confidence=0.2777777777777778, lift=3.8873341625207294), OrderedStatistic(items_base=frozenset({'spaghetti', 'shrimp', 'mineral water'}), items_add=frozenset({'frozen vegetables'}), confidence=0.39062500000000006, lift=4.098011363636364)]),\n",
              " RelationRecord(items=frozenset({'tomatoes', 'spaghetti', 'frozen vegetables', 'mineral water'}), support=0.0030662578322890282, ordered_statistics=[OrderedStatistic(items_base=frozenset({'spaghetti', 'frozen vegetables', 'mineral water'}), items_add=frozenset({'tomatoes'}), confidence=0.2555555555555556, lift=3.7366904916612524), OrderedStatistic(items_base=frozenset({'tomatoes', 'frozen vegetables', 'mineral water'}), items_add=frozenset({'spaghetti'}), confidence=0.5227272727272727, lift=3.0022796881525826), OrderedStatistic(items_base=frozenset({'tomatoes', 'spaghetti', 'mineral water'}), items_add=frozenset({'frozen vegetables'}), confidence=0.32857142857142857, lift=3.447012987012987)]),\n",
              " RelationRecord(items=frozenset({'spaghetti', 'nan', 'olive oil', 'frozen vegetables'}), support=0.005732568990801226, ordered_statistics=[OrderedStatistic(items_base=frozenset({'spaghetti', 'nan', 'frozen vegetables'}), items_add=frozenset({'olive oil'}), confidence=0.20574162679425836, lift=3.1240241752707125)]),\n",
              " RelationRecord(items=frozenset({'spaghetti', 'nan', 'frozen vegetables', 'shrimp'}), support=0.005999200106652446, ordered_statistics=[OrderedStatistic(items_base=frozenset({'spaghetti', 'nan', 'frozen vegetables'}), items_add=frozenset({'shrimp'}), confidence=0.21531100478468898, lift=3.0131489680782684)]),\n",
              " RelationRecord(items=frozenset({'tomatoes', 'nan', 'frozen vegetables', 'shrimp'}), support=0.003999466737768298, ordered_statistics=[OrderedStatistic(items_base=frozenset({'nan', 'frozen vegetables', 'shrimp'}), items_add=frozenset({'tomatoes'}), confidence=0.24000000000000002, lift=3.5092397660818717), OrderedStatistic(items_base=frozenset({'tomatoes', 'nan', 'frozen vegetables'}), items_add=frozenset({'shrimp'}), confidence=0.2479338842975207, lift=3.4696866905143704), OrderedStatistic(items_base=frozenset({'tomatoes', 'nan', 'shrimp'}), items_add=frozenset({'frozen vegetables'}), confidence=0.35714285714285715, lift=3.7467532467532467)]),\n",
              " RelationRecord(items=frozenset({'tomatoes', 'spaghetti', 'nan', 'frozen vegetables'}), support=0.006665777896280496, ordered_statistics=[OrderedStatistic(items_base=frozenset({'spaghetti', 'nan', 'frozen vegetables'}), items_add=frozenset({'tomatoes'}), confidence=0.23923444976076558, lift=3.4980460188216425), OrderedStatistic(items_base=frozenset({'tomatoes', 'spaghetti', 'nan'}), items_add=frozenset({'frozen vegetables'}), confidence=0.3184713375796179, lift=3.341053850607991)]),\n",
              " RelationRecord(items=frozenset({'spaghetti', 'nan', 'ground beef', 'grated cheese'}), support=0.005332622317024397, ordered_statistics=[OrderedStatistic(items_base=frozenset({'spaghetti', 'nan', 'grated cheese'}), items_add=frozenset({'ground beef'}), confidence=0.3225806451612903, lift=3.283144395325426)]),\n",
              " RelationRecord(items=frozenset({'tomatoes', 'nan', 'green tea', 'ground beef'}), support=0.0030662578322890282, ordered_statistics=[OrderedStatistic(items_base=frozenset({'nan', 'green tea', 'ground beef'}), items_add=frozenset({'tomatoes'}), confidence=0.2072072072072072, lift=3.0297490472929067)]),\n",
              " RelationRecord(items=frozenset({'nan', 'milk', 'herb & pepper', 'ground beef'}), support=0.0035995200639914677, ordered_statistics=[OrderedStatistic(items_base=frozenset({'nan', 'milk', 'herb & pepper'}), items_add=frozenset({'ground beef'}), confidence=0.3913043478260869, lift=3.9825968969382335)]),\n",
              " RelationRecord(items=frozenset({'mineral water', 'nan', 'herb & pepper', 'ground beef'}), support=0.006665777896280496, ordered_statistics=[OrderedStatistic(items_base=frozenset({'nan', 'herb & pepper', 'mineral water'}), items_add=frozenset({'ground beef'}), confidence=0.39062500000000006, lift=3.975682666214383)]),\n",
              " RelationRecord(items=frozenset({'spaghetti', 'nan', 'herb & pepper', 'ground beef'}), support=0.006399146780429276, ordered_statistics=[OrderedStatistic(items_base=frozenset({'spaghetti', 'nan', 'herb & pepper'}), items_add=frozenset({'ground beef'}), confidence=0.3934426229508197, lift=4.004359721511667)]),\n",
              " RelationRecord(items=frozenset({'nan', 'olive oil', 'milk', 'ground beef'}), support=0.004932675643247567, ordered_statistics=[OrderedStatistic(items_base=frozenset({'nan', 'milk', 'ground beef'}), items_add=frozenset({'olive oil'}), confidence=0.22424242424242427, lift=3.40494417862839)]),\n",
              " RelationRecord(items=frozenset({'nan', 'soup', 'milk', 'ground beef'}), support=0.003999466737768298, ordered_statistics=[OrderedStatistic(items_base=frozenset({'nan', 'soup', 'ground beef'}), items_add=frozenset({'milk'}), confidence=0.4109589041095891, lift=3.1714019956029094)]),\n",
              " RelationRecord(items=frozenset({'mineral water', 'spaghetti', 'olive oil', 'ground beef'}), support=0.0030662578322890282, ordered_statistics=[OrderedStatistic(items_base=frozenset({'spaghetti', 'olive oil', 'mineral water'}), items_add=frozenset({'ground beef'}), confidence=0.2987012987012987, lift=3.0401064335935435)]),\n",
              " RelationRecord(items=frozenset({'mineral water', 'spaghetti', 'tomatoes', 'ground beef'}), support=0.0030662578322890282, ordered_statistics=[OrderedStatistic(items_base=frozenset({'mineral water', 'tomatoes', 'ground beef'}), items_add=frozenset({'spaghetti'}), confidence=0.5609756097560976, lift=3.221958689724723), OrderedStatistic(items_base=frozenset({'tomatoes', 'spaghetti', 'mineral water'}), items_add=frozenset({'ground beef'}), confidence=0.32857142857142857, lift=3.344117076952898)]),\n",
              " RelationRecord(items=frozenset({'spaghetti', 'nan', 'pepper', 'ground beef'}), support=0.003332888948140248, ordered_statistics=[OrderedStatistic(items_base=frozenset({'spaghetti', 'nan', 'pepper'}), items_add=frozenset({'ground beef'}), confidence=0.33783783783783783, lift=3.4384282518610876)]),\n",
              " RelationRecord(items=frozenset({'spaghetti', 'nan', 'shrimp', 'ground beef'}), support=0.005999200106652446, ordered_statistics=[OrderedStatistic(items_base=frozenset({'nan', 'shrimp', 'ground beef'}), items_add=frozenset({'spaghetti'}), confidence=0.5232558139534884, lift=3.005315360233627)]),\n",
              " RelationRecord(items=frozenset({'spaghetti', 'nan', 'tomato sauce', 'ground beef'}), support=0.0030662578322890282, ordered_statistics=[OrderedStatistic(items_base=frozenset({'nan', 'tomato sauce', 'ground beef'}), items_add=frozenset({'spaghetti'}), confidence=0.5750000000000001, lift=3.3025076569678413), OrderedStatistic(items_base=frozenset({'spaghetti', 'nan', 'tomato sauce'}), items_add=frozenset({'ground beef'}), confidence=0.4893617021276596, lift=4.980599901844742)]),\n",
              " RelationRecord(items=frozenset({'spaghetti', 'olive oil', 'milk', 'mineral water'}), support=0.003332888948140248, ordered_statistics=[OrderedStatistic(items_base=frozenset({'spaghetti', 'milk', 'mineral water'}), items_add=frozenset({'olive oil'}), confidence=0.211864406779661, lift=3.216993755575379)]),\n",
              " RelationRecord(items=frozenset({'tomatoes', 'spaghetti', 'milk', 'mineral water'}), support=0.003332888948140248, ordered_statistics=[OrderedStatistic(items_base=frozenset({'spaghetti', 'milk', 'mineral water'}), items_add=frozenset({'tomatoes'}), confidence=0.211864406779661, lift=3.0978458387022165)]),\n",
              " RelationRecord(items=frozenset({'nan', 'olive oil', 'milk', 'shrimp'}), support=0.003199573390214638, ordered_statistics=[OrderedStatistic(items_base=frozenset({'nan', 'olive oil', 'shrimp'}), items_add=frozenset({'milk'}), confidence=0.39999999999999997, lift=3.0868312757201646)]),\n",
              " RelationRecord(items=frozenset({'soup', 'nan', 'olive oil', 'milk'}), support=0.0035995200639914677, ordered_statistics=[OrderedStatistic(items_base=frozenset({'nan', 'olive oil', 'milk'}), items_add=frozenset({'soup'}), confidence=0.2109375, lift=4.174781497361478), OrderedStatistic(items_base=frozenset({'nan', 'soup', 'milk'}), items_add=frozenset({'olive oil'}), confidence=0.23684210526315788, lift=3.5962603878116344), OrderedStatistic(items_base=frozenset({'soup', 'nan', 'olive oil'}), items_add=frozenset({'milk'}), confidence=0.4029850746268656, lift=3.1098673300165833)]),\n",
              " RelationRecord(items=frozenset({'spaghetti', 'nan', 'olive oil', 'milk'}), support=0.007199040127982935, ordered_statistics=[OrderedStatistic(items_base=frozenset({'spaghetti', 'nan', 'milk'}), items_add=frozenset({'olive oil'}), confidence=0.20300751879699247, lift=3.0825089038385434)]),\n",
              " RelationRecord(items=frozenset({'tomatoes', 'nan', 'soup', 'milk'}), support=0.0030662578322890282, ordered_statistics=[OrderedStatistic(items_base=frozenset({'tomatoes', 'nan', 'milk'}), items_add=frozenset({'soup'}), confidence=0.21904761904761905, lift=4.335293378565146), OrderedStatistic(items_base=frozenset({'tomatoes', 'nan', 'soup'}), items_add=frozenset({'milk'}), confidence=0.44230769230769235, lift=3.4133230452674903)]),\n",
              " RelationRecord(items=frozenset({'spaghetti', 'nan', 'milk', 'whole wheat pasta'}), support=0.003999466737768298, ordered_statistics=[OrderedStatistic(items_base=frozenset({'spaghetti', 'nan', 'whole wheat pasta'}), items_add=frozenset({'milk'}), confidence=0.4545454545454546, lift=3.5077628133183696)]),\n",
              " RelationRecord(items=frozenset({'soup', 'nan', 'olive oil', 'mineral water'}), support=0.005199306759098787, ordered_statistics=[OrderedStatistic(items_base=frozenset({'nan', 'soup', 'mineral water'}), items_add=frozenset({'olive oil'}), confidence=0.22543352601156072, lift=3.4230301186492245)]),\n",
              " RelationRecord(items=frozenset({'whole wheat pasta', 'nan', 'olive oil', 'mineral water'}), support=0.0038661511798426876, ordered_statistics=[OrderedStatistic(items_base=frozenset({'whole wheat pasta', 'nan', 'mineral water'}), items_add=frozenset({'olive oil'}), confidence=0.4027777777777778, lift=6.115862573099416)]),\n",
              " RelationRecord(items=frozenset({'spaghetti', 'nan', 'olive oil', 'pancakes'}), support=0.005065991201173177, ordered_statistics=[OrderedStatistic(items_base=frozenset({'spaghetti', 'nan', 'pancakes'}), items_add=frozenset({'olive oil'}), confidence=0.20105820105820105, lift=3.0529100529100526)]),\n",
              " RelationRecord(items=frozenset({'tomatoes', 'spaghetti', 'nan', 'olive oil'}), support=0.004399413411545127, ordered_statistics=[OrderedStatistic(items_base=frozenset({'tomatoes', 'nan', 'olive oil'}), items_add=frozenset({'spaghetti'}), confidence=0.6111111111111112, lift=3.5099115194827295), OrderedStatistic(items_base=frozenset({'tomatoes', 'spaghetti', 'nan'}), items_add=frozenset({'olive oil'}), confidence=0.21019108280254778, lift=3.19158565202816)]),\n",
              " RelationRecord(items=frozenset({'tomatoes', 'spaghetti', 'nan', 'whole wheat rice'}), support=0.0030662578322890282, ordered_statistics=[OrderedStatistic(items_base=frozenset({'spaghetti', 'nan', 'whole wheat rice'}), items_add=frozenset({'tomatoes'}), confidence=0.2169811320754717, lift=3.1726617382029496)]),\n",
              " RelationRecord(items=frozenset({'chocolate', 'eggs', 'mineral water', 'nan', 'ground beef'}), support=0.003999466737768298, ordered_statistics=[OrderedStatistic(items_base=frozenset({'nan', 'chocolate', 'eggs', 'mineral water'}), items_add=frozenset({'ground beef'}), confidence=0.29702970297029707, lift=3.023093354111531)]),\n",
              " RelationRecord(items=frozenset({'chocolate', 'frozen vegetables', 'mineral water', 'nan', 'ground beef'}), support=0.003332888948140248, ordered_statistics=[OrderedStatistic(items_base=frozenset({'mineral water', 'nan', 'chocolate', 'frozen vegetables'}), items_add=frozenset({'ground beef'}), confidence=0.34246575342465757, lift=3.4855300087358976), OrderedStatistic(items_base=frozenset({'mineral water', 'nan', 'chocolate', 'ground beef'}), items_add=frozenset({'frozen vegetables'}), confidence=0.30487804878048785, lift=3.1984478935698455)]),\n",
              " RelationRecord(items=frozenset({'spaghetti', 'chocolate', 'frozen vegetables', 'nan', 'ground beef'}), support=0.0030662578322890282, ordered_statistics=[OrderedStatistic(items_base=frozenset({'nan', 'chocolate', 'ground beef', 'frozen vegetables'}), items_add=frozenset({'spaghetti'}), confidence=0.5348837209302326, lift=3.0721001460165964), OrderedStatistic(items_base=frozenset({'spaghetti', 'nan', 'chocolate', 'frozen vegetables'}), items_add=frozenset({'ground beef'}), confidence=0.3898305084745763, lift=3.967596531978015), OrderedStatistic(items_base=frozenset({'spaghetti', 'nan', 'chocolate', 'ground beef'}), items_add=frozenset({'frozen vegetables'}), confidence=0.33333333333333337, lift=3.4969696969696975)]),\n",
              " RelationRecord(items=frozenset({'milk', 'chocolate', 'frozen vegetables', 'mineral water', 'nan'}), support=0.003999466737768298, ordered_statistics=[OrderedStatistic(items_base=frozenset({'mineral water', 'nan', 'chocolate', 'frozen vegetables'}), items_add=frozenset({'milk'}), confidence=0.4109589041095891, lift=3.1714019956029094)]),\n",
              " RelationRecord(items=frozenset({'spaghetti', 'milk', 'chocolate', 'frozen vegetables', 'nan'}), support=0.0034662045060658577, ordered_statistics=[OrderedStatistic(items_base=frozenset({'spaghetti', 'nan', 'chocolate', 'frozen vegetables'}), items_add=frozenset({'milk'}), confidence=0.44067796610169485, lift=3.4007463207086555), OrderedStatistic(items_base=frozenset({'nan', 'milk', 'spaghetti', 'chocolate'}), items_add=frozenset({'frozen vegetables'}), confidence=0.3170731707317073, lift=3.3263858093126384)]),\n",
              " RelationRecord(items=frozenset({'chocolate', 'frozen vegetables', 'mineral water', 'nan', 'shrimp'}), support=0.003199573390214638, ordered_statistics=[OrderedStatistic(items_base=frozenset({'mineral water', 'nan', 'chocolate', 'frozen vegetables'}), items_add=frozenset({'shrimp'}), confidence=0.32876712328767127, lift=4.600899611531385), OrderedStatistic(items_base=frozenset({'nan', 'chocolate', 'shrimp', 'mineral water'}), items_add=frozenset({'frozen vegetables'}), confidence=0.4210526315789474, lift=4.417224880382776)]),\n",
              " RelationRecord(items=frozenset({'spaghetti', 'olive oil', 'chocolate', 'mineral water', 'nan'}), support=0.0038661511798426876, ordered_statistics=[OrderedStatistic(items_base=frozenset({'spaghetti', 'nan', 'chocolate', 'mineral water'}), items_add=frozenset({'olive oil'}), confidence=0.2436974789915966, lift=3.700353825740822)]),\n",
              " RelationRecord(items=frozenset({'spaghetti', 'chocolate', 'mineral water', 'nan', 'shrimp'}), support=0.0034662045060658577, ordered_statistics=[OrderedStatistic(items_base=frozenset({'spaghetti', 'nan', 'chocolate', 'mineral water'}), items_add=frozenset({'shrimp'}), confidence=0.21848739495798317, lift=3.0576006522011783)]),\n",
              " RelationRecord(items=frozenset({'milk', 'frozen vegetables', 'eggs', 'mineral water', 'nan'}), support=0.0037328356219170776, ordered_statistics=[OrderedStatistic(items_base=frozenset({'nan', 'frozen vegetables', 'eggs', 'mineral water'}), items_add=frozenset({'milk'}), confidence=0.411764705882353, lift=3.177620430888405)]),\n",
              " RelationRecord(items=frozenset({'frozen smoothie', 'spaghetti', 'milk', 'mineral water', 'nan'}), support=0.003199573390214638, ordered_statistics=[OrderedStatistic(items_base=frozenset({'frozen smoothie', 'spaghetti', 'nan', 'mineral water'}), items_add=frozenset({'milk'}), confidence=0.4705882352941177, lift=3.631566206729606), OrderedStatistic(items_base=frozenset({'spaghetti', 'nan', 'milk', 'mineral water'}), items_add=frozenset({'frozen smoothie'}), confidence=0.2033898305084746, lift=3.211846565566459)]),\n",
              " RelationRecord(items=frozenset({'milk', 'frozen vegetables', 'mineral water', 'nan', 'ground beef'}), support=0.0037328356219170776, ordered_statistics=[OrderedStatistic(items_base=frozenset({'mineral water', 'nan', 'frozen vegetables', 'ground beef'}), items_add=frozenset({'milk'}), confidence=0.40579710144927533, lift=3.1315679608755294), OrderedStatistic(items_base=frozenset({'nan', 'milk', 'frozen vegetables', 'mineral water'}), items_add=frozenset({'ground beef'}), confidence=0.3373493975903614, lift=3.4334570302921317), OrderedStatistic(items_base=frozenset({'mineral water', 'nan', 'milk', 'ground beef'}), items_add=frozenset({'frozen vegetables'}), confidence=0.3373493975903614, lift=3.539101861993428)]),\n",
              " RelationRecord(items=frozenset({'spaghetti', 'milk', 'frozen vegetables', 'nan', 'ground beef'}), support=0.0030662578322890282, ordered_statistics=[OrderedStatistic(items_base=frozenset({'nan', 'milk', 'frozen vegetables', 'ground beef'}), items_add=frozenset({'spaghetti'}), confidence=0.5348837209302326, lift=3.0721001460165964), OrderedStatistic(items_base=frozenset({'nan', 'milk', 'spaghetti', 'frozen vegetables'}), items_add=frozenset({'ground beef'}), confidence=0.3709677419354839, lift=3.7756160546242397), OrderedStatistic(items_base=frozenset({'spaghetti', 'nan', 'milk', 'ground beef'}), items_add=frozenset({'frozen vegetables'}), confidence=0.3150684931506849, lift=3.305354919053549)]),\n",
              " RelationRecord(items=frozenset({'spaghetti', 'frozen vegetables', 'mineral water', 'nan', 'ground beef'}), support=0.004399413411545127, ordered_statistics=[OrderedStatistic(items_base=frozenset({'spaghetti', 'nan', 'frozen vegetables', 'mineral water'}), items_add=frozenset({'ground beef'}), confidence=0.3666666666666667, lift=3.7318407960199007)]),\n",
              " RelationRecord(items=frozenset({'milk', 'olive oil', 'frozen vegetables', 'mineral water', 'nan'}), support=0.003332888948140248, ordered_statistics=[OrderedStatistic(items_base=frozenset({'nan', 'milk', 'frozen vegetables', 'mineral water'}), items_add=frozenset({'olive oil'}), confidence=0.30120481927710846, lift=4.573557387444516), OrderedStatistic(items_base=frozenset({'nan', 'olive oil', 'frozen vegetables', 'mineral water'}), items_add=frozenset({'milk'}), confidence=0.5102040816326531, lift=3.937284790459394), OrderedStatistic(items_base=frozenset({'nan', 'olive oil', 'milk', 'mineral water'}), items_add=frozenset({'frozen vegetables'}), confidence=0.39062500000000006, lift=4.098011363636364)]),\n",
              " RelationRecord(items=frozenset({'soup', 'milk', 'frozen vegetables', 'mineral water', 'nan'}), support=0.0030662578322890282, ordered_statistics=[OrderedStatistic(items_base=frozenset({'nan', 'milk', 'frozen vegetables', 'mineral water'}), items_add=frozenset({'soup'}), confidence=0.27710843373493976, lift=5.484407286136631), OrderedStatistic(items_base=frozenset({'nan', 'milk', 'soup', 'frozen vegetables'}), items_add=frozenset({'mineral water'}), confidence=0.7666666666666666, lift=3.21631245339299), OrderedStatistic(items_base=frozenset({'nan', 'soup', 'frozen vegetables', 'mineral water'}), items_add=frozenset({'milk'}), confidence=0.6052631578947368, lift=4.670863114576565), OrderedStatistic(items_base=frozenset({'nan', 'soup', 'milk', 'mineral water'}), items_add=frozenset({'frozen vegetables'}), confidence=0.35937500000000006, lift=3.7701704545454553)]),\n",
              " RelationRecord(items=frozenset({'spaghetti', 'milk', 'frozen vegetables', 'mineral water', 'nan'}), support=0.004532728969470737, ordered_statistics=[OrderedStatistic(items_base=frozenset({'spaghetti', 'nan', 'milk', 'mineral water'}), items_add=frozenset({'frozen vegetables'}), confidence=0.28813559322033894, lift=3.0228043143297376)]),\n",
              " RelationRecord(items=frozenset({'spaghetti', 'frozen vegetables', 'mineral water', 'nan', 'shrimp'}), support=0.003332888948140248, ordered_statistics=[OrderedStatistic(items_base=frozenset({'spaghetti', 'nan', 'frozen vegetables', 'mineral water'}), items_add=frozenset({'shrimp'}), confidence=0.2777777777777778, lift=3.8873341625207294), OrderedStatistic(items_base=frozenset({'spaghetti', 'nan', 'shrimp', 'mineral water'}), items_add=frozenset({'frozen vegetables'}), confidence=0.39062500000000006, lift=4.098011363636364)]),\n",
              " RelationRecord(items=frozenset({'tomatoes', 'spaghetti', 'frozen vegetables', 'mineral water', 'nan'}), support=0.0030662578322890282, ordered_statistics=[OrderedStatistic(items_base=frozenset({'spaghetti', 'nan', 'frozen vegetables', 'mineral water'}), items_add=frozenset({'tomatoes'}), confidence=0.2555555555555556, lift=3.7366904916612524), OrderedStatistic(items_base=frozenset({'tomatoes', 'nan', 'frozen vegetables', 'mineral water'}), items_add=frozenset({'spaghetti'}), confidence=0.5227272727272727, lift=3.0022796881525826), OrderedStatistic(items_base=frozenset({'tomatoes', 'spaghetti', 'nan', 'mineral water'}), items_add=frozenset({'frozen vegetables'}), confidence=0.32857142857142857, lift=3.447012987012987)]),\n",
              " RelationRecord(items=frozenset({'spaghetti', 'olive oil', 'mineral water', 'nan', 'ground beef'}), support=0.0030662578322890282, ordered_statistics=[OrderedStatistic(items_base=frozenset({'spaghetti', 'nan', 'olive oil', 'mineral water'}), items_add=frozenset({'ground beef'}), confidence=0.2987012987012987, lift=3.0401064335935435)]),\n",
              " RelationRecord(items=frozenset({'spaghetti', 'tomatoes', 'mineral water', 'nan', 'ground beef'}), support=0.0030662578322890282, ordered_statistics=[OrderedStatistic(items_base=frozenset({'mineral water', 'tomatoes', 'nan', 'ground beef'}), items_add=frozenset({'spaghetti'}), confidence=0.5609756097560976, lift=3.221958689724723), OrderedStatistic(items_base=frozenset({'tomatoes', 'spaghetti', 'nan', 'mineral water'}), items_add=frozenset({'ground beef'}), confidence=0.32857142857142857, lift=3.344117076952898)]),\n",
              " RelationRecord(items=frozenset({'spaghetti', 'milk', 'olive oil', 'mineral water', 'nan'}), support=0.003332888948140248, ordered_statistics=[OrderedStatistic(items_base=frozenset({'spaghetti', 'nan', 'milk', 'mineral water'}), items_add=frozenset({'olive oil'}), confidence=0.211864406779661, lift=3.216993755575379)]),\n",
              " RelationRecord(items=frozenset({'tomatoes', 'spaghetti', 'milk', 'mineral water', 'nan'}), support=0.003332888948140248, ordered_statistics=[OrderedStatistic(items_base=frozenset({'spaghetti', 'nan', 'milk', 'mineral water'}), items_add=frozenset({'tomatoes'}), confidence=0.211864406779661, lift=3.0978458387022165)])]"
            ]
          },
          "metadata": {
            "tags": []
          },
          "execution_count": 15
        }
      ]
    },
    {
      "cell_type": "code",
      "metadata": {
        "id": "E0dYXJhUFp0D",
        "colab_type": "code",
        "colab": {}
      },
      "source": [
        ""
      ],
      "execution_count": 0,
      "outputs": []
    }
  ]
}